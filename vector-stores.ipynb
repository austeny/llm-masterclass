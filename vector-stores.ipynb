{
 "cells": [
  {
   "cell_type": "code",
   "execution_count": null,
   "metadata": {},
   "outputs": [],
   "source": [
    "pip install -r ./requirements.txt -q"
   ]
  },
  {
   "cell_type": "code",
   "execution_count": null,
   "metadata": {},
   "outputs": [],
   "source": [
    "import os\n",
    "from dotenv import load_dotenv, find_dotenv\n",
    "load_dotenv(find_dotenv(), override=True)"
   ]
  },
  {
   "cell_type": "markdown",
   "metadata": {},
   "source": [
    "# Embeddings\n",
    "Core of LLM applications, text embeddings are numeric representations of text and are used in NLP and ML tasks\n",
    "\n",
    "The distance between 2 embeddings or 2 vectors measures their relatedness which translates to the relatedness between the text concepts they represent.\n",
    "* Similar embeddings or vectors represents similar concepts\n",
    "\n",
    "**Text Classifications:** assigning a label to a peice of text\n",
    "**Text Clustering:** grouping together pieces of text that are similar in meaning\n",
    "**Question-Answering:** answering a question posed in natural language\n",
    "\n",
    "# Introductions to Vector Databases\n",
    "Challenges\n",
    "- Efficient data processing\n",
    "- Many of latest AI apps rely on **vector embeddings**.\n",
    "  - Vector Embeddings are when text is converted to numbers that carry semantic information. They represent text as a set of numbers in a high dimensional space and the numbers represent meaning of the words in the text.\n",
    "\n",
    "## Vector Database Solutions\n",
    "- Pinecone\n",
    "- Chroma\n",
    "- Milvus\n",
    "- qdrant\n",
    "\n",
    "## Vector Databases\n",
    "- New type of database, designed to store and query unstructured data\n",
    "- Unstructured data is data that does not have a fixed schema, such as text, images, and audio\n",
    "\n",
    "### Pipeline for Vector Databases\n",
    "Use combination of different optimized algorithms that all participate in the Approximate Nearest Neighbor (ANN) search\n",
    "\n",
    "### High Level Flow\n",
    "1. Content is converted into Vector Embedding using embedding model\n",
    "2. Vector Embedding is then indexed into the Vector Database\n",
    "3. Application will make a query which is similarly converted to a Vector Embedding using the same embedding model\n",
    "4. Query Vector Embedding is used to query Vector Database for similar content using ANN\n",
    "5. Query result is returned\n",
    "eg. If company wanted to query documents.\n",
    "1. Each document would be converted to a Vector Embedding through an Embedding Model\n",
    "2. The document Vector Embeddings would be stored in a Vector Database, each vector embedding would be referenced to a document\n",
    "3. Finally company can query against Vector Database\n",
    "\n",
    "# Pinecone\n",
    "Used in OPL stack (OpenAI, Pinecone, LangChain)\n",
    "\n",
    "## Indexes\n",
    "Highest level of organizational unit of vector data in Pinecone. It accepts and stores vectors, serves queries over the vectors it contains, and does other operations over its contents.\n",
    "\n",
    "**Serverless Indexes:** You don't configure or manage any compute or storage resources (they scale automatically)\n",
    "**Pod-based Indexes:** You choose one or more pre-configured units of hardware (pods)\n",
    "\n",
    "## Working with Vectors\n",
    "(See code below on how to create/delete indexes and insert vectors into indexes)\n",
    "\n",
    "## Namespaces\n",
    "Pinecone allows you to partition the vectors in an index into namespaces. Queries and other operations are scoped to a specific namespace allowing different requests to search different subsets of your index\n",
    "\n",
    "**Key information about namespaces:**\n",
    "- Every index consists of 1 or more namespaces\n",
    "- Each vector exists in only 1 namespace\n",
    "- Namespaces are uniquely identified by a namespace name\n",
    "- Default namespace is represented by the empty string and used if no specific namespaced is specified\n"
   ]
  },
  {
   "cell_type": "code",
   "execution_count": null,
   "metadata": {},
   "outputs": [],
   "source": [
    "pip install -q pinecone-client"
   ]
  },
  {
   "cell_type": "code",
   "execution_count": null,
   "metadata": {},
   "outputs": [],
   "source": [
    "pip install --upgrade -q pinecone-client"
   ]
  },
  {
   "cell_type": "code",
   "execution_count": null,
   "metadata": {},
   "outputs": [],
   "source": [
    "pip show pinecone-client"
   ]
  },
  {
   "cell_type": "code",
   "execution_count": null,
   "metadata": {},
   "outputs": [],
   "source": [
    "from pinecone import Pinecone\n",
    "# pc = Pinecone(api_key='YOUR_API_KEY') define api key if env var not available\n",
    "pc = Pinecone()\n",
    "pc.list_indexes()"
   ]
  },
  {
   "cell_type": "code",
   "execution_count": null,
   "metadata": {},
   "outputs": [],
   "source": [
    "# Create Pinecone Index\n",
    "from pinecone import PodSpec\n",
    "index_name = 'langchain'\n",
    "if index_name not in pc.list_indexes().names():\n",
    "  print(f'Creating index {index_name}')\n",
    "  pc.create_index(\n",
    "    name=index_name,\n",
    "    dimension=1536,\n",
    "    metric='cosine',\n",
    "    spec=PodSpec(\n",
    "      environment='gcp-starter'\n",
    "    )\n",
    "  )\n",
    "  print('Index Created!')\n",
    "else:\n",
    "  print(f'Index {index_name} already exists!')"
   ]
  },
  {
   "cell_type": "code",
   "execution_count": null,
   "metadata": {},
   "outputs": [],
   "source": [
    "pc.list_indexes()"
   ]
  },
  {
   "cell_type": "code",
   "execution_count": null,
   "metadata": {},
   "outputs": [],
   "source": [
    "# Delete Pinecone Index\n",
    "index_name = 'langchain'\n",
    "if index_name in pc.list_indexes().names():\n",
    "  print(f'Deleting index {index_name} ...')\n",
    "  pc.delete_index(index_name)\n",
    "  print('Done')\n",
    "else:\n",
    "  print(f'Index {index_name} does not exist.')"
   ]
  },
  {
   "cell_type": "code",
   "execution_count": null,
   "metadata": {},
   "outputs": [],
   "source": [
    "# Describe Pinecone Index\n",
    "index = pc.Index(index_name)\n",
    "index.describe_index_stats()"
   ]
  },
  {
   "cell_type": "code",
   "execution_count": null,
   "metadata": {},
   "outputs": [],
   "source": [
    "# inserting vectors\n",
    "import random\n",
    "vectors = [[random.random() for _ in range(1536)] for v in range(5)]\n",
    "# print(vectors)\n",
    "ids = list('abcde')\n",
    "\n",
    "index_name='langchain'\n",
    "index = pc.Index(index_name)\n",
    "index.upsert(vectors=zip(ids, vectors))"
   ]
  },
  {
   "cell_type": "code",
   "execution_count": null,
   "metadata": {},
   "outputs": [],
   "source": [
    "# updating vectors\n",
    "index.upsert(vectors=[('c', [0.5] * 1536)])"
   ]
  },
  {
   "cell_type": "code",
   "execution_count": null,
   "metadata": {},
   "outputs": [],
   "source": [
    "# fetch vector by ID\n",
    "index.fetch(ids=['c', 'd'])"
   ]
  },
  {
   "cell_type": "code",
   "execution_count": null,
   "metadata": {},
   "outputs": [],
   "source": [
    "# delete vectors by ID\n",
    "index.delete(ids=['b','c'])"
   ]
  },
  {
   "cell_type": "code",
   "execution_count": null,
   "metadata": {},
   "outputs": [],
   "source": [
    "index.describe_index_stats()"
   ]
  },
  {
   "cell_type": "code",
   "execution_count": null,
   "metadata": {},
   "outputs": [],
   "source": [
    "# query\n",
    "query_vector = [random.random() for _ in range(1536)]"
   ]
  },
  {
   "cell_type": "code",
   "execution_count": null,
   "metadata": {},
   "outputs": [],
   "source": [
    "# Query and return top 3 most similar vectors\n",
    "index.query(\n",
    "  vector=query_vector,\n",
    "  top_k=3, # defines returning only top 3\n",
    "  include_values=False\n",
    ")"
   ]
  },
  {
   "cell_type": "markdown",
   "metadata": {},
   "source": [
    "### Namespaces"
   ]
  },
  {
   "cell_type": "code",
   "execution_count": null,
   "metadata": {},
   "outputs": [],
   "source": [
    "# Start with empty index\n",
    "index.describe_index_stats()\n",
    "index = pc.Index('langchain')\n",
    "\n",
    "# insert random vector into default namespace\n",
    "import random\n",
    "vectors = [[random.random() for _ in range(1536)] for v in range(5)]\n",
    "ids = list('abcde')\n",
    "index.upsert(vectors=zip(ids, vectors))"
   ]
  },
  {
   "cell_type": "code",
   "execution_count": null,
   "metadata": {},
   "outputs": [],
   "source": [
    "# add 3 vectors to 'first-namespace' namespace\n",
    "vectors = [[random.random() for _ in range(1536)] for v in range(3)]\n",
    "ids = list('xyz')\n",
    "index.upsert(vectors=zip(ids, vectors), namespace='first-namespace')"
   ]
  },
  {
   "cell_type": "code",
   "execution_count": null,
   "metadata": {},
   "outputs": [],
   "source": [
    "# add 2 vectors to 'second-namespace' namespace\n",
    "vectors = [[random.random() for _ in range(1536)] for v in range(2)]\n",
    "ids = list('qp')\n",
    "index.upsert(vectors=zip(ids, vectors), namespace='second-namespace')"
   ]
  },
  {
   "cell_type": "code",
   "execution_count": null,
   "metadata": {},
   "outputs": [],
   "source": [
    "# shows namespaces in index\n",
    "index.describe_index_stats()"
   ]
  },
  {
   "cell_type": "code",
   "execution_count": null,
   "metadata": {},
   "outputs": [],
   "source": [
    "# to properly fetch vectors from a namespace you must explicitly define the namespace in the fetch\n",
    "index.fetch(ids=['x'], namespace='first-namespace')"
   ]
  },
  {
   "cell_type": "code",
   "execution_count": null,
   "metadata": {},
   "outputs": [],
   "source": [
    "index.delete(ids=['x'], namespace='first-namespace')"
   ]
  },
  {
   "cell_type": "code",
   "execution_count": null,
   "metadata": {},
   "outputs": [],
   "source": [
    "# delete all vectors from a namespace, will also delete the namespace itself\n",
    "index.delete(delete_all=True, namespace='first-namespace')"
   ]
  },
  {
   "cell_type": "code",
   "execution_count": null,
   "metadata": {},
   "outputs": [],
   "source": [
    "index.describe_index_stats()"
   ]
  },
  {
   "cell_type": "markdown",
   "metadata": {},
   "source": [
    "# Splitting and Embedding Text Using LangChain"
   ]
  },
  {
   "cell_type": "code",
   "execution_count": null,
   "metadata": {},
   "outputs": [],
   "source": []
  }
 ],
 "metadata": {
  "kernelspec": {
   "display_name": "Python 3",
   "language": "python",
   "name": "python3"
  },
  "language_info": {
   "codemirror_mode": {
    "name": "ipython",
    "version": 3
   },
   "file_extension": ".py",
   "mimetype": "text/x-python",
   "name": "python",
   "nbconvert_exporter": "python",
   "pygments_lexer": "ipython3",
   "version": "3.11.7"
  }
 },
 "nbformat": 4,
 "nbformat_minor": 2
}
