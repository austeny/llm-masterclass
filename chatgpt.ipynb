{
 "cells": [
  {
   "cell_type": "code",
   "execution_count": null,
   "id": "cda9b913",
   "metadata": {},
   "outputs": [],
   "source": [
    "pip install -r ./requirements.txt -q"
   ]
  },
  {
   "cell_type": "code",
   "execution_count": null,
   "id": "c4770d66",
   "metadata": {},
   "outputs": [],
   "source": [
    "import os\n",
    "from dotenv import load_dotenv, find_dotenv\n",
    "load_dotenv(find_dotenv(), override=True)"
   ]
  },
  {
   "cell_type": "code",
   "execution_count": null,
   "id": "a538f123-76b1-48a4-8185-25fb7b867c1a",
   "metadata": {},
   "outputs": [],
   "source": [
    "%load_ext jupyter_ai_magics"
   ]
  },
  {
   "cell_type": "code",
   "execution_count": null,
   "id": "a6661504",
   "metadata": {},
   "outputs": [],
   "source": [
    "%%ai chatgpt\n",
    "explain dict.update()"
   ]
  },
  {
   "cell_type": "code",
   "execution_count": null,
   "id": "0682dce0",
   "metadata": {},
   "outputs": [],
   "source": [
    "pip install huggingface-hub -q"
   ]
  },
  {
   "cell_type": "code",
   "execution_count": null,
   "id": "9839403f",
   "metadata": {},
   "outputs": [],
   "source": [
    "pip install Pillow"
   ]
  },
  {
   "cell_type": "code",
   "execution_count": null,
   "id": "855343b4",
   "metadata": {},
   "outputs": [],
   "source": [
    "%%ai huggingface_hub:stabilityai/stable-diffusion-2-1 --format image\n",
    "multiple goldendoodle puppies frolicking in a field of sunflowers, warm summer sunny day, blue sky with minimal clouds"
   ]
  },
  {
   "cell_type": "code",
   "execution_count": null,
   "id": "2ca5814b",
   "metadata": {},
   "outputs": [],
   "source": []
  }
 ],
 "metadata": {
  "kernelspec": {
   "display_name": "Python 3 (ipykernel)",
   "language": "python",
   "name": "python3"
  },
  "language_info": {
   "codemirror_mode": {
    "name": "ipython",
    "version": 3
   },
   "file_extension": ".py",
   "mimetype": "text/x-python",
   "name": "python",
   "nbconvert_exporter": "python",
   "pygments_lexer": "ipython3",
   "version": "3.11.7"
  }
 },
 "nbformat": 4,
 "nbformat_minor": 5
}
